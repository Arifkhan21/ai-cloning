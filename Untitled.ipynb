{
 "cells": [
  {
   "cell_type": "code",
   "execution_count": null,
   "id": "89b517a9-c2c0-402d-ac22-0f3641b222a4",
   "metadata": {},
   "outputs": [],
   "source": [
    "Pipeline Components\n",
    "\n",
    "-- Audio generator (Options - ChaTTTS, Coqui-TTS), Fine Tuninig\n",
    "-- Clipping audio - pydub\n",
    "-- LipSync Generator (Image Based - SadTalker) (Video based - Wav2lip)\n",
    "\n",
    "\n",
    "Limitaions of TTS(Text To Speech models)\n",
    "- ChaTTTS - Does not support custom of user input for audio sample\n",
    "- "
   ]
  }
 ],
 "metadata": {
  "kernelspec": {
   "display_name": "Python 3 (ipykernel)",
   "language": "python",
   "name": "python3"
  },
  "language_info": {
   "codemirror_mode": {
    "name": "ipython",
    "version": 3
   },
   "file_extension": ".py",
   "mimetype": "text/x-python",
   "name": "python",
   "nbconvert_exporter": "python",
   "pygments_lexer": "ipython3",
   "version": "3.9.20"
  }
 },
 "nbformat": 4,
 "nbformat_minor": 5
}
