{
 "cells": [
  {
   "cell_type": "code",
   "execution_count": 6,
   "id": "c572f1d6-77cd-45f7-8ee9-2707343618e7",
   "metadata": {},
   "outputs": [],
   "source": [
    "import torch\n",
    "import torchaudio\n",
    "torch._dynamo.config.cache_size_limit = 64\n",
    "torch._dynamo.config.suppress_errors = True\n",
    "torch.set_float32_matmul_precision('high')\n",
    "from scipy.io.wavfile import write\n",
    "import numpy as np\n",
    "import ChatTTS\n",
    "from IPython.display import Audio"
   ]
  },
  {
   "cell_type": "code",
   "execution_count": 2,
   "id": "69bfb76c-2e1e-4af5-ae9b-bebd2a61e30f",
   "metadata": {},
   "outputs": [
    {
     "data": {
      "text/plain": [
       "True"
      ]
     },
     "execution_count": 2,
     "metadata": {},
     "output_type": "execute_result"
    }
   ],
   "source": [
    "chat = ChatTTS.Chat()\n",
    "chat.load(compile=False) "
   ]
  },
  {
   "cell_type": "code",
   "execution_count": 3,
   "id": "f88bf329-66dc-47e8-b9b0-99eddde35ef8",
   "metadata": {},
   "outputs": [],
   "source": [
    "speaker = \"\"\"蘁淰教欀堬亶纜煭嬬緫淋屑趖刏凪笐譯控傋稄蝙瑲懅姯浜梵剎讨垪翅悒打侍櫢豙奖噺櫚峺羍硨硃测埔勖屠棉婾斛耷揕趨棑笝檧襽澋徵簔弩匞嘙咡褁意浝孝棶彆粪虐虬旂也跎濚焑乻禾人娼瘠眖湯栿禰瀼氂寔槏篱桫葤譆姶蓚秽痕搵蒫豿蛵荂蛶罬獔塩蕪谤拰従婆叾堞葍氓仾曎揩紤泪烿堀皙薢捀语膉囁后序盨缣晏怫聀内絳胹纶硣丒樑槲梧塂志磾摲聩褾扄僺猣奭檢示僢捂穚參織緽矩氥坭愭虊岲藷砵败瞺瞺綢沫篏診梘枴屖箜篥摡綷璔幊憒恳徑徃趕喑伇租堫敷瑢爆畛枿侁庶螈挵跭肹氝貓戴獳浆翴蓒撸亵盙祫檋硪噏誔県疔嫕窇倐蠲穞胻唠姰皞蜘姠着嶚衝忲燐紕柫咆赬孬曯悀廩妖扊絿蔣珎缏试诇曑籵凹啶藎擀栌剀垗照蒶擉噄枛莆擤哮寀巕帶孮健臇磧卽滐様絧堣衷籟兮脙峡磠蝣趇克皨崢焯炕谣屷爷竞葛湙荟箢貖谪歍謇傎螣柜炬蛹损缦俀塳棄芽急任荆圳渢斱簚小締秽吸癠砹箴瞞段澔硎腽描椶窄玄蛲圡埼薄覗皜洒珫碒莇蛽窢俊蚠哞冗詈葚戓吢苶渶緢沪琶賌坅囀粨痐荇沦臶尚廠犒豢峱虳掍犭篑吓蠍塣謓玪宑汘嶍蔷澸睌伾紗檰界瑑刄淃芲臾楹祿紻菓和塽翩樠掵羰賗睆螸熐秠烴倛浊薶庥聃曞绥埆恋趭潲昏盢渌萾諽啸撰快豔腷攌亳潾袶譓枻木嵃嚙撻瘶微莊坴莈縧懇耘莈熼滌缆翵戂朥羍崷藘盾溾焙篕槔薡芌糠瓎帊苬庯渦嫩蓼淇聙滶璍嚓誘繧贶淙哗諣愞賎湈価愮禗哟癤碪患佹皍呪觔弍凴婈諐禥薎豋喿膑蛙犃埐櫹愲択痁概脌描秼秹磌脟敡亴墧碏瘟囬讕蒃肙谛杶兖奩浀悝灾搜榙澮貯瞞宵咡怍瘣刹冊璢熁徵繘汏蕍啝庼炗硼牡窛彡膎荠硥敠佱很憓衫桹蒾帣嵡垾焃潕瑎襵嚐膂斢笣慽説晳妏拷蝖跆塺筽盛睖澱兵汻噢擲斜狽儬犆娭旍滾伞憳湃畁聘捼簂豑瑆祬癖啸舤焁腸娮誛焲砍对期吶脐貃渭締嵗訨貢绶萳稟傺乆僚栩屺砋佺憻簲袰步汰徍狛謈滅賃圕簕荔箠経嶇睆檪坔谁哇壪蚻罌捽汑琻渏慷箉屵弚版摈俦壔祽偝舟蔕牀糪藦刪姎菘末嫖垁疎瑜硅庘汄穔啎庑繫畍炟湠倢弝捉繺聵唧廚曰娱趰睪腵殨贫窰琅劬嵛嵵葎繸萫倠犺嚦択榡战哎粔墐暳肟崔娹檧蘏挽燕益娕肰歮甞喃棞茌贿谵楁稬秗怓膜櫎犗狥古熐樣墧箸溞翆溵砲紿狝袎蜷蛨眻炃滙溫滻禤妗繨跛庢丷掭岜具薬狡暻徂伪棯冺匤罙宰肫椘橻劲拑浔县敀炃浺昫戙瞓脍俾旣室縺檃彇謌襛拭螣碤罏注褳蛊槓凟华嵅甆滣灭粅灘懱筙甘橯倎仐一一㴄\"\"\""
   ]
  },
  {
   "cell_type": "code",
   "execution_count": 7,
   "id": "05264b63-dfd8-44f3-9387-c168d2fc2d22",
   "metadata": {},
   "outputs": [],
   "source": [
    "\n",
    "def gen_chattts_audio(text,speaker, file_path = 'output.wav'):\n",
    "\n",
    "    params_infer_code = ChatTTS.Chat.InferCodeParams(\n",
    "                                                    spk_emb = speaker, \n",
    "                                                    temperature = .3,   \n",
    "                                                    top_P = 0.7,        \n",
    "                                                    top_K = 20, )\n",
    "    params_refine_text = ChatTTS.Chat.RefineTextParams(prompt='[oral_2][laugh_0][break_6]')\n",
    "\n",
    "    wavs = chat.infer(text, skip_refine_text=True, params_refine_text=params_refine_text,  params_infer_code=params_infer_code)\n",
    "    write(f\"{file_path}\", 24000, wavs[0].astype(np.float32))"
   ]
  },
  {
   "cell_type": "code",
   "execution_count": 8,
   "id": "5a5ea975-a257-412a-8a84-98cbc628c5ae",
   "metadata": {},
   "outputs": [
    {
     "name": "stderr",
     "output_type": "stream",
     "text": [
      "code:  11%|███████████▍                                                                                              | 220/2048(max) [00:13, 16.18it/s]\n"
     ]
    }
   ],
   "source": [
    "name = \"Mark\"\n",
    "text = f\"Hey {name}[uv_break], I just got notified that you signed up for our newsletter.[lbreak]\"\n",
    "gen_chattts_audio(text, speaker, file_path=f'./cha./chattts/aud-{name}.wav')"
   ]
  },
  {
   "cell_type": "code",
   "execution_count": null,
   "id": "3dffa92a-bba4-404e-9758-33cbdba4b3b4",
   "metadata": {},
   "outputs": [],
   "source": []
  }
 ],
 "metadata": {
  "kernelspec": {
   "display_name": "Python 3 (ipykernel)",
   "language": "python",
   "name": "python3"
  },
  "language_info": {
   "codemirror_mode": {
    "name": "ipython",
    "version": 3
   },
   "file_extension": ".py",
   "mimetype": "text/x-python",
   "name": "python",
   "nbconvert_exporter": "python",
   "pygments_lexer": "ipython3",
   "version": "3.9.20"
  }
 },
 "nbformat": 4,
 "nbformat_minor": 5
}
